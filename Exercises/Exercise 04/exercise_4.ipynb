{
 "cells": [
  {
   "cell_type": "markdown",
   "id": "d909c9f7",
   "metadata": {},
   "source": [
    "# Exercise 4: Data exploration and visualization\n",
    "\n",
    "We will work with the \"IT Salary Survey EU 2020\" dataset <br> See: https://www.kaggle.com/datasets/parulpandey/2020-it-salary-survey-for-eu-region/"
   ]
  },
  {
   "cell_type": "code",
   "execution_count": null,
   "id": "c77bc294",
   "metadata": {},
   "outputs": [],
   "source": [
    "import pandas as pd\n",
    "import numpy as np\n",
    "import matplotlib.pyplot as plt\n",
    "import seaborn as sns"
   ]
  },
  {
   "cell_type": "code",
   "execution_count": null,
   "id": "83673d02",
   "metadata": {},
   "outputs": [],
   "source": [
    "# Load the dataset\n",
    "data_df = pd.read_csv(\"IT Salary Survey EU  2020.csv\")\n",
    "data_df.head()"
   ]
  },
  {
   "cell_type": "code",
   "execution_count": null,
   "id": "61156ab3",
   "metadata": {},
   "outputs": [],
   "source": [
    "# List all columns\n"
   ]
  },
  {
   "cell_type": "markdown",
   "id": "238e26b5",
   "metadata": {},
   "source": [
    "## Explore programming languages"
   ]
  },
  {
   "cell_type": "code",
   "execution_count": null,
   "id": "0cf49be6",
   "metadata": {
    "scrolled": true
   },
   "outputs": [],
   "source": [
    "# Lets make a copy for us to work on\n",
    "df = data_df.copy()\n",
    "len(df)"
   ]
  },
  {
   "cell_type": "code",
   "execution_count": null,
   "id": "2b2cd9af",
   "metadata": {},
   "outputs": [],
   "source": [
    "# Check if values are missing (NaN)\n"
   ]
  },
  {
   "cell_type": "code",
   "execution_count": null,
   "id": "1d6e1380",
   "metadata": {},
   "outputs": [],
   "source": [
    "# Show rows with missing values\n"
   ]
  },
  {
   "cell_type": "code",
   "execution_count": null,
   "id": "4ed18c4b",
   "metadata": {},
   "outputs": [],
   "source": [
    "# Remove missing values\n",
    "\n",
    "len(df)"
   ]
  },
  {
   "cell_type": "markdown",
   "id": "0d54fab4",
   "metadata": {},
   "source": [
    "**$\\rightarrow$ categorical/ nominal variable**"
   ]
  },
  {
   "cell_type": "code",
   "execution_count": null,
   "id": "fbbf9ea5",
   "metadata": {},
   "outputs": [],
   "source": [
    "# List all (unique) programming languages\n"
   ]
  },
  {
   "cell_type": "code",
   "execution_count": null,
   "id": "2fc42801",
   "metadata": {},
   "outputs": [],
   "source": [
    "# Convert to lowercase\n"
   ]
  },
  {
   "cell_type": "code",
   "execution_count": null,
   "id": "184b1c60",
   "metadata": {},
   "outputs": [],
   "source": [
    "# Find top 10 languages\n",
    "\n",
    "top10"
   ]
  },
  {
   "cell_type": "code",
   "execution_count": null,
   "id": "79c7b905",
   "metadata": {},
   "outputs": [],
   "source": [
    "languages = \"|\".join(l for l in top10.index)\n",
    "languages"
   ]
  },
  {
   "cell_type": "code",
   "execution_count": null,
   "id": "2c31e483",
   "metadata": {},
   "outputs": [],
   "source": [
    "# extract strings using regular expressions\n",
    "pattern = r\"(javascript|java|python|php|c\\+\\+|c#|swift|scala|go|kotlin)\"\n",
    "\n",
    "df[\"Your main technology / programming language\"] = df[\"Your main technology / programming language\"].str.extract(pattern)"
   ]
  },
  {
   "cell_type": "code",
   "execution_count": null,
   "id": "d4fb0379",
   "metadata": {
    "scrolled": true
   },
   "outputs": [],
   "source": [
    "# Check top 10 again\n",
    "\n",
    "top10"
   ]
  },
  {
   "cell_type": "code",
   "execution_count": null,
   "id": "b1d484d4",
   "metadata": {},
   "outputs": [],
   "source": [
    "counts = top10.sort_values()\n",
    "categories = counts.index\n",
    "count = counts.values"
   ]
  },
  {
   "cell_type": "code",
   "execution_count": null,
   "id": "75749191",
   "metadata": {},
   "outputs": [],
   "source": [
    "# use plt.bar()\n",
    "\n",
    "plt.xlabel(\"programming language\")\n",
    "plt.ylabel(\"count\")\n",
    "plt.show()"
   ]
  },
  {
   "cell_type": "code",
   "execution_count": null,
   "id": "4d195970",
   "metadata": {},
   "outputs": [],
   "source": [
    "# horizonal barplot\n",
    "\n",
    "plt.show()"
   ]
  },
  {
   "cell_type": "markdown",
   "id": "864221d0",
   "metadata": {},
   "source": [
    "### Preparing a plot for a (scientific) figure\n",
    "**Size and font size**\n",
    "* Page width: about 7 inches (= 180mm, typical DinA4 page with borders)\n",
    "* We want to fit two plots next to each other $\\rightarrow$ about 3 inches each\n",
    "* We set the font size to 8\n",
    "* The font should be editable in Inkscape!\n",
    "\n",
    "**Improving visuals**\n",
    "* Declutter = Remove unnecessary elements such as plot borders, grid lines etc.\n",
    "* Draw attention to the important elements\n",
    "* Avoid 3D effects\n",
    "* Use color sparingly, avoid rainbow colormaps etc."
   ]
  },
  {
   "cell_type": "code",
   "execution_count": null,
   "id": "58e0c234",
   "metadata": {},
   "outputs": [],
   "source": [
    "# Set font size\n",
    "plt.rcParams['font.size'] = 12 # for now: 12, later: 8\n",
    "\n",
    "# Make the text editable (in the SVG file)\n",
    "plt.rcParams['svg.fonttype'] = 'none'"
   ]
  },
  {
   "cell_type": "code",
   "execution_count": null,
   "id": "372413b5",
   "metadata": {},
   "outputs": [],
   "source": [
    "plt.figure(figsize=(2.5, 3))  # 2.5 to 3 inches width\n",
    "plt.title(\"Top 10 programming languages\")\n",
    "plt.xlabel('Number of respondents')\n",
    "\n",
    "# Horizontal barplot\n",
    "\n",
    "\n",
    "# Add count next to each bar\n",
    "\n",
    "\n",
    "# Remove chart border & y-axis (declutter!)\n",
    "\n",
    "\n",
    "# Save as PNG and SVG\n",
    "\n",
    "\n",
    "plt.show()"
   ]
  },
  {
   "cell_type": "markdown",
   "id": "75a77a5b",
   "metadata": {},
   "source": [
    "## Let's visualize the column \"Age\""
   ]
  },
  {
   "cell_type": "code",
   "execution_count": null,
   "id": "414d1f3f",
   "metadata": {},
   "outputs": [],
   "source": [
    "# Lets make a copy\n",
    "df = data_df.copy()\n",
    "len(df)"
   ]
  },
  {
   "cell_type": "code",
   "execution_count": null,
   "id": "77fbd2a5",
   "metadata": {
    "scrolled": false
   },
   "outputs": [],
   "source": [
    "#df.Age.value_counts()\n",
    "df.Age.describe()"
   ]
  },
  {
   "cell_type": "markdown",
   "id": "c0128da3",
   "metadata": {},
   "source": [
    "**$\\rightarrow$ discrete variable**"
   ]
  },
  {
   "cell_type": "code",
   "execution_count": null,
   "id": "6ad8a79a",
   "metadata": {},
   "outputs": [],
   "source": [
    "# Remove missing values\n",
    "\n",
    "len(df)"
   ]
  },
  {
   "cell_type": "code",
   "execution_count": null,
   "id": "ec9e3e67",
   "metadata": {},
   "outputs": [],
   "source": [
    "bins = np.arange(20, 69, 2)\n",
    "bins"
   ]
  },
  {
   "cell_type": "code",
   "execution_count": null,
   "id": "fcf7e1e6",
   "metadata": {},
   "outputs": [],
   "source": [
    "# Histogram using plt.hist()\n",
    "\n",
    "plt.show()"
   ]
  },
  {
   "cell_type": "code",
   "execution_count": null,
   "id": "4429c794",
   "metadata": {},
   "outputs": [],
   "source": [
    "ret"
   ]
  },
  {
   "cell_type": "code",
   "execution_count": null,
   "id": "1a50d3ff",
   "metadata": {},
   "outputs": [],
   "source": [
    "# Seaborn: Easy to use for pandas DataFrames!\n",
    "\n",
    "plt.show()"
   ]
  },
  {
   "cell_type": "code",
   "execution_count": null,
   "id": "6e601932",
   "metadata": {},
   "outputs": [],
   "source": [
    "sns.set_style(\"ticks\")  # styles: {darkgrid, whitegrid, dark, white, ticks}"
   ]
  },
  {
   "cell_type": "code",
   "execution_count": null,
   "id": "6f669d5d",
   "metadata": {},
   "outputs": [],
   "source": [
    "sns.histplot(df, x='Age', bins=bins)\n",
    "\n",
    "# Compute average age\n",
    "\n",
    "print(mean_age)\n",
    "\n",
    "# Highlight average age by plotting a vertical line\n",
    "\n",
    "plt.legend()\n",
    "plt.show()"
   ]
  },
  {
   "cell_type": "code",
   "execution_count": null,
   "id": "f64df283",
   "metadata": {},
   "outputs": [],
   "source": [
    "# Width: 3 inches\n",
    "plt.figure(figsize=(3, 2))\n",
    "plt.title(\"Age distribution\")\n",
    "\n",
    "# Histogram\n",
    "sns.histplot(df, x='Age', bins=bins)\n",
    "\n",
    "# Highlight average age by plotting a vertical line\n",
    "\n",
    "\n",
    "# Declutter: Remove the upper and right border\n",
    "\n",
    "\n",
    "# Save as SVG\n",
    "plt.savefig(\"plots/age.svg\", bbox_inches=\"tight\")\n",
    "plt.show()"
   ]
  },
  {
   "cell_type": "markdown",
   "id": "ef76c162",
   "metadata": {},
   "source": [
    "## Exploring age and total years of experience"
   ]
  },
  {
   "cell_type": "code",
   "execution_count": null,
   "id": "402110e7",
   "metadata": {},
   "outputs": [],
   "source": [
    "# Let's make a copy\n",
    "df = data_df.copy()\n",
    "len(df)"
   ]
  },
  {
   "cell_type": "code",
   "execution_count": null,
   "id": "47121277",
   "metadata": {},
   "outputs": [],
   "source": [
    "# remove NaN's from \"Total years of experience\"\n",
    "df = df[~df[\"Total years of experience\"].isnull()]\n",
    "len(df)"
   ]
  },
  {
   "cell_type": "code",
   "execution_count": null,
   "id": "c31c3c8d",
   "metadata": {},
   "outputs": [],
   "source": [
    "# Scatter plot: Years of experience vs. age\n",
    "plt.figure(figsize=(12, 5))\n",
    "\n",
    "_ = plt.xticks(rotation=90)"
   ]
  },
  {
   "cell_type": "code",
   "execution_count": null,
   "id": "e57eafea",
   "metadata": {},
   "outputs": [],
   "source": [
    "# Check datatype of the column\n"
   ]
  },
  {
   "cell_type": "markdown",
   "id": "f68b21e5",
   "metadata": {},
   "source": [
    "Pandas datatype **object (O)**: String or mixed numeric and non-numeric values"
   ]
  },
  {
   "cell_type": "code",
   "execution_count": null,
   "id": "6a31a25f",
   "metadata": {
    "scrolled": true
   },
   "outputs": [],
   "source": [
    "# replace non-numeric values in column \"Total years of experience\" with NaN\n",
    "\n",
    "\n",
    "# remove NaN's from \"Total years of experience\" again\n",
    "df = df[~df[\"Total years of experience\"].isnull()]\n",
    "len(df)"
   ]
  },
  {
   "cell_type": "code",
   "execution_count": null,
   "id": "2dfa052f",
   "metadata": {},
   "outputs": [],
   "source": [
    "# Check datatype of the column\n",
    "df[\"Total years of experience\"].dtype"
   ]
  },
  {
   "cell_type": "code",
   "execution_count": null,
   "id": "87c7b730",
   "metadata": {},
   "outputs": [],
   "source": [
    "# plot it again\n",
    "plt.figure(figsize=(12, 5))\n",
    "plt.scatter(df[\"Total years of experience\"], df[\"Age\"])\n",
    "plt.xlabel(\"Total years of experience\")"
   ]
  },
  {
   "cell_type": "markdown",
   "id": "a09030cb",
   "metadata": {},
   "source": [
    "**Remove outliers**"
   ]
  },
  {
   "cell_type": "code",
   "execution_count": null,
   "id": "ba991302",
   "metadata": {},
   "outputs": [],
   "source": [
    "df[\"Total years of experience\"].plot.hist(bins=100)\n",
    "plt.xlabel(\"Total years of experience\")\n",
    "#plt.xlim(0,100)\n",
    "plt.show()\n",
    "# --> positively skewed distribution\n",
    "\n",
    "boxplot = plt.boxplot(df[\"Total years of experience\"], showfliers=True)\n",
    "plt.ylabel(\"Years\")\n",
    "plt.show()"
   ]
  },
  {
   "cell_type": "code",
   "execution_count": null,
   "id": "99100bcb",
   "metadata": {},
   "outputs": [],
   "source": [
    "[item.get_ydata() for item in boxplot['whiskers']]"
   ]
  },
  {
   "cell_type": "code",
   "execution_count": null,
   "id": "457310a8",
   "metadata": {},
   "outputs": [],
   "source": [
    "df['Total years of experience'].describe()"
   ]
  },
  {
   "cell_type": "code",
   "execution_count": null,
   "id": "6e094ae2",
   "metadata": {},
   "outputs": [],
   "source": [
    "# Q3 + whis*(Q3-Q1)\n",
    "\n",
    "upper_limit"
   ]
  },
  {
   "cell_type": "code",
   "execution_count": null,
   "id": "f15357b7",
   "metadata": {},
   "outputs": [],
   "source": [
    "# Q1 - whis*(Q3-Q1)\n",
    "\n",
    "lower_limit"
   ]
  },
  {
   "cell_type": "code",
   "execution_count": null,
   "id": "395bd2ed",
   "metadata": {},
   "outputs": [],
   "source": [
    "# Apply the limits to our DataFrame\n"
   ]
  },
  {
   "cell_type": "code",
   "execution_count": null,
   "id": "8c0c3d74",
   "metadata": {},
   "outputs": [],
   "source": [
    "# plot it again without outliers\n",
    "plt.figure(figsize=(10, 5))\n",
    "plt.scatter(df[\"Total years of experience\"], df[\"Age\"])\n",
    "plt.xlabel(\"\")\n",
    "plt.show()"
   ]
  },
  {
   "cell_type": "code",
   "execution_count": null,
   "id": "b78a8069",
   "metadata": {},
   "outputs": [],
   "source": [
    "plt.figure(figsize=(3, 2))\n",
    "plt.title(\"Age vs. years of experience\")\n",
    "plt.xlabel(\"Years of experience\")\n",
    "plt.ylabel(\"Age in years\")\n",
    "\n",
    "# Scatter plot\n",
    "plt.scatter(df[\"Total years of experience\"], df[\"Age\"], s=10)\n",
    "\n",
    "# Declutter\n",
    "sns.despine()\n",
    "\n",
    "# Save as SVG\n",
    "plt.savefig(\"plots/age_experience.svg\", bbox_inches=\"tight\")\n",
    "plt.show()"
   ]
  },
  {
   "cell_type": "markdown",
   "id": "c0d8804c",
   "metadata": {},
   "source": [
    "## Analyzing salary & seniority level\n",
    "Now, let's explore the yearly brutto salary and how it differs for seniority levels. <br>\n",
    "We will look at different plot types for visualizing distributions and for comparing distributions among groups."
   ]
  },
  {
   "cell_type": "code",
   "execution_count": null,
   "id": "a77e2707",
   "metadata": {},
   "outputs": [],
   "source": [
    "# Let's make a copy\n",
    "df = data_df.copy()"
   ]
  },
  {
   "cell_type": "code",
   "execution_count": null,
   "id": "a619ea5d",
   "metadata": {},
   "outputs": [],
   "source": [
    "df = df.rename(columns={\"Yearly brutto salary (without bonus and stocks) in EUR\": \"Yearly brutto salary in EUR\"})"
   ]
  },
  {
   "cell_type": "code",
   "execution_count": null,
   "id": "9861aad4",
   "metadata": {},
   "outputs": [],
   "source": [
    "# Boxplot of salary distribution (here: using seaborn)\n"
   ]
  },
  {
   "cell_type": "markdown",
   "id": "5ae92ccf",
   "metadata": {},
   "source": [
    "Outlier removal, as shown before:"
   ]
  },
  {
   "cell_type": "code",
   "execution_count": null,
   "id": "61b9e8b5",
   "metadata": {},
   "outputs": [],
   "source": [
    "df['Yearly brutto salary in EUR'].describe()"
   ]
  },
  {
   "cell_type": "code",
   "execution_count": null,
   "id": "cb3321ca",
   "metadata": {},
   "outputs": [],
   "source": [
    "# Q3 + whis*(Q3 - Q1)\n",
    "upper_limit = 80000 + 1.5*(80000 - 58800)\n",
    "\n",
    "# Q1 - whis*(Q3 - Q1)\n",
    "lower_limit = 58800 - 1.5*(80000 - 58800)\n",
    "\n",
    "# Apply limits to DataFrame\n",
    "df = df[(df[\"Yearly brutto salary in EUR\"] <= upper_limit) &\n",
    "        (df[\"Yearly brutto salary in EUR\"] >= lower_limit)]"
   ]
  },
  {
   "cell_type": "code",
   "execution_count": null,
   "id": "2c04ee32",
   "metadata": {},
   "outputs": [],
   "source": [
    "# Boxplot\n",
    "\n",
    "\n",
    "# Highlight median\n",
    "\n",
    "\n",
    "plt.show()"
   ]
  },
  {
   "cell_type": "code",
   "execution_count": null,
   "id": "eca5c4c4",
   "metadata": {},
   "outputs": [],
   "source": [
    "# Barplot with errorbar (standard deviation)\n",
    "\n",
    "\n",
    "# Highlight mean\n",
    "\n",
    "\n",
    "plt.show()"
   ]
  },
  {
   "cell_type": "code",
   "execution_count": null,
   "id": "a77e3ec3",
   "metadata": {},
   "outputs": [],
   "source": [
    "# Remove NaN's from column \"Seniority level\"\n",
    "df = df[~df['Seniority level'].isnull()]"
   ]
  },
  {
   "cell_type": "code",
   "execution_count": null,
   "id": "f4247be1",
   "metadata": {},
   "outputs": [],
   "source": [
    "sns.boxplot(data=df, y=\"Yearly brutto salary in EUR\", x=\"Seniority level\")\n",
    "plt.show()"
   ]
  },
  {
   "cell_type": "code",
   "execution_count": null,
   "id": "1ec68139",
   "metadata": {},
   "outputs": [],
   "source": [
    "# Find top 5 seniority levels\n",
    "\n",
    "top5"
   ]
  },
  {
   "cell_type": "code",
   "execution_count": null,
   "id": "bf622feb",
   "metadata": {},
   "outputs": [],
   "source": [
    "# Remove rows, only keep top 5 seniority levels\n"
   ]
  },
  {
   "cell_type": "code",
   "execution_count": null,
   "id": "861af7b0",
   "metadata": {},
   "outputs": [],
   "source": [
    "# Boxplot\n",
    "\n",
    "plt.show()"
   ]
  },
  {
   "cell_type": "code",
   "execution_count": null,
   "id": "cace5d8f",
   "metadata": {},
   "outputs": [],
   "source": [
    "# Violinplot\n",
    "\n",
    "plt.show()"
   ]
  },
  {
   "cell_type": "code",
   "execution_count": null,
   "id": "4def335c",
   "metadata": {},
   "outputs": [],
   "source": [
    "# Barplot with errorbar\n",
    "\n",
    "plt.show()"
   ]
  },
  {
   "cell_type": "code",
   "execution_count": null,
   "id": "01b6c391",
   "metadata": {},
   "outputs": [],
   "source": [
    "# Only errorbar\n",
    "\n",
    "plt.show()"
   ]
  },
  {
   "cell_type": "code",
   "execution_count": null,
   "id": "198fefe6",
   "metadata": {},
   "outputs": [],
   "source": [
    "# Show raw values -> stripplot\n",
    "\n",
    "plt.show()"
   ]
  },
  {
   "cell_type": "code",
   "execution_count": null,
   "id": "cf4e0a7a",
   "metadata": {},
   "outputs": [],
   "source": [
    "# Show raw values -> swarmplot\n",
    "\n",
    "plt.show()"
   ]
  },
  {
   "cell_type": "code",
   "execution_count": null,
   "id": "0daf9a9e",
   "metadata": {},
   "outputs": [],
   "source": [
    "# Order seniority levels by their median salary\n",
    "\n",
    "order"
   ]
  },
  {
   "cell_type": "code",
   "execution_count": null,
   "id": "379c4970",
   "metadata": {},
   "outputs": [],
   "source": [
    "plt.figure(figsize=(3.5, 2))\n",
    "plt.title(\"Salary by seniority level\")\n",
    "\n",
    "# Boxplot\n",
    "\n",
    "# Stripplot\n",
    "\n",
    "\n",
    "# Declutter\n",
    "sns.despine()\n",
    "\n",
    "# Save as SVG\n",
    "plt.savefig(\"plots/salary_seniority.svg\", bbox_inches=\"tight\")\n",
    "plt.show()"
   ]
  },
  {
   "cell_type": "markdown",
   "id": "2dc6ecd7",
   "metadata": {},
   "source": [
    "## Bonus: Colormaps"
   ]
  },
  {
   "cell_type": "markdown",
   "id": "40000aeb",
   "metadata": {},
   "source": [
    "### Qualitative colormaps\n",
    "E.g. for showing different categories"
   ]
  },
  {
   "cell_type": "code",
   "execution_count": null,
   "id": "ba52a1f8",
   "metadata": {
    "scrolled": true
   },
   "outputs": [],
   "source": [
    "sns.color_palette(\"tab10\")"
   ]
  },
  {
   "cell_type": "code",
   "execution_count": null,
   "id": "b6ef32ab",
   "metadata": {},
   "outputs": [],
   "source": [
    "sns.color_palette(\"pastel\")"
   ]
  },
  {
   "cell_type": "code",
   "execution_count": null,
   "id": "3f5f53aa",
   "metadata": {
    "scrolled": true
   },
   "outputs": [],
   "source": [
    "sns.color_palette(\"Set1\")"
   ]
  },
  {
   "cell_type": "markdown",
   "id": "1cec6f78",
   "metadata": {},
   "source": [
    "### Sequential colormaps\n"
   ]
  },
  {
   "cell_type": "code",
   "execution_count": null,
   "id": "9536ed3f",
   "metadata": {},
   "outputs": [],
   "source": [
    "sns.color_palette(\"Blues\", as_cmap=True)"
   ]
  },
  {
   "cell_type": "markdown",
   "id": "1614c48d",
   "metadata": {},
   "source": [
    "### Perceptually uniform sequential colormaps\n",
    "= equal steps in values are perceived as equal steps in the color space <br>\n",
    "Great for displaying heatmaps for example"
   ]
  },
  {
   "cell_type": "code",
   "execution_count": null,
   "id": "78597acf",
   "metadata": {},
   "outputs": [],
   "source": [
    "sns.color_palette(\"viridis\", as_cmap=True)"
   ]
  },
  {
   "cell_type": "code",
   "execution_count": null,
   "id": "1e1eb927",
   "metadata": {},
   "outputs": [],
   "source": [
    "sns.color_palette(\"plasma\", as_cmap=True)"
   ]
  },
  {
   "cell_type": "code",
   "execution_count": null,
   "id": "66acff3f",
   "metadata": {},
   "outputs": [],
   "source": [
    "# Example: \"Flights\" dataset\n",
    "flights = sns.load_dataset(\"flights\")\n",
    "sns.heatmap(flights.pivot(index=\"month\", columns=\"year\", values=\"passengers\"), cmap=\"plasma\")\n",
    "plt.show()"
   ]
  },
  {
   "cell_type": "markdown",
   "id": "3acfcf22",
   "metadata": {},
   "source": [
    "### Diverging colormaps\n",
    "Use these if there is a meaningful middle point. <br>\n",
    "Example: Spearman correlation (-1: negative correlation, 0: no correlation, 1: positive correlation)"
   ]
  },
  {
   "cell_type": "code",
   "execution_count": null,
   "id": "00dbfc13",
   "metadata": {},
   "outputs": [],
   "source": [
    "sns.color_palette(\"RdBu\", as_cmap=True)"
   ]
  },
  {
   "cell_type": "code",
   "execution_count": null,
   "id": "f5b3ec37",
   "metadata": {
    "scrolled": false
   },
   "outputs": [],
   "source": [
    "sns.color_palette(\"coolwarm\", as_cmap=True)"
   ]
  },
  {
   "cell_type": "markdown",
   "id": "9fd5c9b3",
   "metadata": {},
   "source": [
    "**matplotlib colormaps** and when to use which: https://matplotlib.org/stable/users/explain/colors/colormaps.html"
   ]
  }
 ],
 "metadata": {
  "kernelspec": {
   "display_name": "Python 3 (ipykernel)",
   "language": "python",
   "name": "python3"
  },
  "language_info": {
   "codemirror_mode": {
    "name": "ipython",
    "version": 3
   },
   "file_extension": ".py",
   "mimetype": "text/x-python",
   "name": "python",
   "nbconvert_exporter": "python",
   "pygments_lexer": "ipython3",
   "version": "3.9.12"
  }
 },
 "nbformat": 4,
 "nbformat_minor": 5
}
