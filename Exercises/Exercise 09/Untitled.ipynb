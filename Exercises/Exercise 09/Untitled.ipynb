{
 "cells": [
  {
   "cell_type": "code",
   "execution_count": 3,
   "id": "80c82110",
   "metadata": {},
   "outputs": [
    {
     "ename": "SyntaxError",
     "evalue": "invalid syntax (1781953100.py, line 1)",
     "output_type": "error",
     "traceback": [
      "\u001b[1;36m  Cell \u001b[1;32mIn[3], line 1\u001b[1;36m\u001b[0m\n\u001b[1;33m    pip install line_profiler\u001b[0m\n\u001b[1;37m        ^\u001b[0m\n\u001b[1;31mSyntaxError\u001b[0m\u001b[1;31m:\u001b[0m invalid syntax\n"
     ]
    }
   ],
   "source": [
    "pip install line_profiler\n",
    "%load_ext line_profiler\n"
   ]
  },
  {
   "cell_type": "code",
   "execution_count": null,
   "id": "e5027509",
   "metadata": {},
   "outputs": [],
   "source": [
    "import numpy as np\n",
    "from skimage import data, color\n",
    "from skimage.transform import resize\n",
    "imgs = np.uint8(data.lfw_subset()*255)\n",
    "\n",
    "def res_skimage(imgs):\n",
    "    new_size = (imgs[1].shape[0]//2, imgs[1].shape[1]//2)\n",
    "    res_im = []\n",
    "    for im in imgs:\n",
    "    image_resized = resize(im, new_size, anti_aliasing=True)\n",
    "    res_im.append(image_resized)\n",
    "    return np.asarray(res_im)"
   ]
  },
  {
   "cell_type": "code",
   "execution_count": null,
   "id": "367517ba",
   "metadata": {},
   "outputs": [],
   "source": [
    "%lprun -f res_skimage res_skimage()"
   ]
  }
 ],
 "metadata": {
  "kernelspec": {
   "display_name": "Python 3 (ipykernel)",
   "language": "python",
   "name": "python3"
  },
  "language_info": {
   "codemirror_mode": {
    "name": "ipython",
    "version": 3
   },
   "file_extension": ".py",
   "mimetype": "text/x-python",
   "name": "python",
   "nbconvert_exporter": "python",
   "pygments_lexer": "ipython3",
   "version": "3.10.9"
  }
 },
 "nbformat": 4,
 "nbformat_minor": 5
}
